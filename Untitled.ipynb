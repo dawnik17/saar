{
 "cells": [
  {
   "cell_type": "code",
   "execution_count": 21,
   "id": "5838122a",
   "metadata": {},
   "outputs": [
    {
     "data": {
      "text/plain": [
       "{'name': 'aabe2224bdc8',\n",
       " 'cluster_name': 'docker-cluster',\n",
       " 'cluster_uuid': 'XUjOQpyAQMWB7Nwk6eIPjw',\n",
       " 'version': {'number': '8.7.0',\n",
       "  'build_flavor': 'default',\n",
       "  'build_type': 'docker',\n",
       "  'build_hash': '09520b59b6bc1057340b55750186466ea715e30e',\n",
       "  'build_date': '2023-03-27T16:31:09.816451435Z',\n",
       "  'build_snapshot': False,\n",
       "  'lucene_version': '9.5.0',\n",
       "  'minimum_wire_compatibility_version': '7.17.0',\n",
       "  'minimum_index_compatibility_version': '7.0.0'},\n",
       " 'tagline': 'You Know, for Search'}"
      ]
     },
     "execution_count": 21,
     "metadata": {},
     "output_type": "execute_result"
    }
   ],
   "source": [
    "from elasticsearch import Elasticsearch\n",
    "\n",
    "es = Elasticsearch(\"http://localhost:9200\")\n",
    "es.info().body"
   ]
  },
  {
   "cell_type": "code",
   "execution_count": 23,
   "id": "f5b150af-da29-4bdb-885c-c240c173218b",
   "metadata": {},
   "outputs": [
    {
     "data": {
      "text/plain": [
       "ObjectApiResponse({'acknowledged': True, 'shards_acknowledged': True, 'index': 'news'})"
      ]
     },
     "execution_count": 23,
     "metadata": {},
     "output_type": "execute_result"
    }
   ],
   "source": [
    "es.indices.create(index=\"news\")"
   ]
  },
  {
   "cell_type": "code",
   "execution_count": 11,
   "id": "c9a62a36-e491-4957-85a0-05dc9807637a",
   "metadata": {},
   "outputs": [
    {
     "name": "stdout",
     "output_type": "stream",
     "text": [
      "Today is:  2023-09-09\n",
      "Yesterday was:  2023-09-08\n"
     ]
    }
   ],
   "source": [
    "from datetime import date\n",
    "from datetime import timedelta\n",
    " \n",
    "# Get today's date\n",
    "today = date.today()\n",
    "print(\"Today is: \", today)\n",
    " \n",
    "# Yesterday date\n",
    "yesterday = today - timedelta(days = 1)\n",
    "print(\"Yesterday was: \", yesterday)"
   ]
  },
  {
   "cell_type": "code",
   "execution_count": 17,
   "id": "d4981447-c8a5-4700-a0cf-80a74b6d7dc6",
   "metadata": {},
   "outputs": [
    {
     "data": {
      "text/plain": [
       "ObjectApiResponse({'_index': 'news', '_id': '2', '_version': 3, 'result': 'updated', '_shards': {'total': 2, 'successful': 1, 'failed': 0}, '_seq_no': 13, '_primary_term': 1})"
      ]
     },
     "execution_count": 17,
     "metadata": {},
     "output_type": "execute_result"
    }
   ],
   "source": [
    "news_data = {\n",
    "    \"source\": \"CNN\",\n",
    "    \"news\": \"News Content\",\n",
    "    \"authors\": [\"Author 1\", \"Author 2\"],\n",
    "    \"image_url\": \"https://example.com/image.jpg\",\n",
    "    \"category\": \"Sports\",\n",
    "    \"datetime\": yesterday\n",
    "}\n",
    "\n",
    "es.index(index=\"news\", id=2, document=news_data)"
   ]
  },
  {
   "cell_type": "code",
   "execution_count": 18,
   "id": "5ddfbffc-156a-4b91-b2fc-f841323a1775",
   "metadata": {},
   "outputs": [
    {
     "name": "stderr",
     "output_type": "stream",
     "text": [
      "/var/folders/gr/zw47r5vs48j4tst50wq4qr840000gn/T/ipykernel_5490/860250105.py:1: DeprecationWarning: The 'body' parameter is deprecated and will be removed in a future version. Instead use individual parameters.\n",
      "  result = es.search(index=\"news\", body={\"query\": {\"match\": {\"authors\": \"Author\"}}})\n"
     ]
    },
    {
     "data": {
      "text/plain": [
       "[{'source': 'News Source',\n",
       "  'news': 'News Content',\n",
       "  'authors': ['Author 1', 'Author 2'],\n",
       "  'image_url': 'https://example.com/image.jpg',\n",
       "  'category': 'Sports',\n",
       "  'datetime': '2023-09-09'},\n",
       " {'source': 'Geo',\n",
       "  'news': 'News Content 6',\n",
       "  'authors': ['Author 99', 'Author 100'],\n",
       "  'image_url': 'https://exavcxmple2.com/image.jpg'},\n",
       " {'source': 'CNN',\n",
       "  'news': 'News Content',\n",
       "  'authors': ['Author 1', 'Author 2'],\n",
       "  'image_url': 'https://example.com/image.jpg',\n",
       "  'category': 'Sports',\n",
       "  'datetime': '2023-09-09'},\n",
       " {'source': 'CNN',\n",
       "  'news': 'News Content',\n",
       "  'authors': ['Author 1', 'Author 2'],\n",
       "  'image_url': 'https://example.com/image.jpg',\n",
       "  'category': 'Sports',\n",
       "  'datetime': '2023-09-08'}]"
      ]
     },
     "execution_count": 18,
     "metadata": {},
     "output_type": "execute_result"
    }
   ],
   "source": [
    "result = es.search(index=\"news\", body={\"query\": {\"match\": {\"authors\": \"Author\"}}})\n",
    "hits = result[\"hits\"][\"hits\"]\n",
    "news_list = [hit[\"_source\"] for hit in hits]\n",
    "news_list"
   ]
  },
  {
   "cell_type": "code",
   "execution_count": 6,
   "id": "73fe40bc-ab88-4e9d-ba0a-67c785167442",
   "metadata": {},
   "outputs": [
    {
     "name": "stderr",
     "output_type": "stream",
     "text": [
      "/var/folders/gr/zw47r5vs48j4tst50wq4qr840000gn/T/ipykernel_5490/2166496023.py:1: DeprecationWarning: The 'body' parameter is deprecated and will be removed in a future version. Instead use individual parameters.\n",
      "  result = es.search(index=\"news\", body={\n"
     ]
    },
    {
     "data": {
      "text/plain": [
       "[]"
      ]
     },
     "execution_count": 6,
     "metadata": {},
     "output_type": "execute_result"
    }
   ],
   "source": [
    "result = es.search(index=\"news\", body={\n",
    "  \"query\": {\n",
    "    \"query_string\": {\n",
    "      \"query\": \"Sport\",\n",
    "      \"fields\": [\"category\"]\n",
    "    }\n",
    "  }\n",
    "})\n",
    "hits = result[\"hits\"][\"hits\"]\n",
    "news_list = [hit[\"_source\"] for hit in hits]\n",
    "news_list"
   ]
  },
  {
   "cell_type": "code",
   "execution_count": 4,
   "id": "e12a9c38-ad25-42d5-a8d9-c11728f4b816",
   "metadata": {},
   "outputs": [
    {
     "name": "stderr",
     "output_type": "stream",
     "text": [
      "/var/folders/gr/zw47r5vs48j4tst50wq4qr840000gn/T/ipykernel_5490/445511278.py:1: DeprecationWarning: The 'body' parameter is deprecated and will be removed in a future version. Instead use individual parameters.\n",
      "  result = es.search(index=\"news\", body={\n"
     ]
    },
    {
     "data": {
      "text/plain": [
       "[{'source': 'CNN',\n",
       "  'news': 'News Content 6',\n",
       "  'authors': ['Author 99', 'Author 100'],\n",
       "  'image_url': 'https://exavcxmple2.com/image.jpg'},\n",
       " {'source': 'CNN',\n",
       "  'news': 'News Content 6',\n",
       "  'authors': ['Author 99', 'Author 100'],\n",
       "  'image_url': 'https://exavcxmple2.com/image.jpg'},\n",
       " {'source': 'Geo',\n",
       "  'news': 'News Content 6',\n",
       "  'authors': ['Author 99', 'Author 100'],\n",
       "  'image_url': 'https://exavcxmple2.com/image.jpg'},\n",
       " {'source': 'News Source',\n",
       "  'news': 'News Content',\n",
       "  'authors': ['Author 1', 'Author 2'],\n",
       "  'image_url': 'https://example.com/image.jpg',\n",
       "  'category': 'Sports'}]"
      ]
     },
     "execution_count": 4,
     "metadata": {},
     "output_type": "execute_result"
    }
   ],
   "source": [
    "result = es.search(index=\"news\", body={\n",
    "  \"query\": {\n",
    "    \"query_string\": {\n",
    "      \"query\": \"Author 9\",\n",
    "      \"fields\": [\"authors\"]\n",
    "    }\n",
    "  }\n",
    "})\n",
    "hits = result[\"hits\"][\"hits\"]\n",
    "news_list = [hit[\"_source\"] for hit in hits]\n",
    "news_list"
   ]
  },
  {
   "cell_type": "code",
   "execution_count": 49,
   "id": "18c9c2cc-0729-4724-b549-e9d421de378b",
   "metadata": {},
   "outputs": [
    {
     "data": {
      "text/plain": [
       "4"
      ]
     },
     "execution_count": 49,
     "metadata": {},
     "output_type": "execute_result"
    }
   ],
   "source": [
    "es.count()[\"count\"]"
   ]
  },
  {
   "cell_type": "code",
   "execution_count": 48,
   "id": "56b2570b-0835-4095-be25-42bd9f6a3950",
   "metadata": {},
   "outputs": [
    {
     "ename": "TypeError",
     "evalue": "Elasticsearch.index() missing 2 required keyword-only arguments: 'index' and 'document'",
     "output_type": "error",
     "traceback": [
      "\u001b[0;31m---------------------------------------------------------------------------\u001b[0m",
      "\u001b[0;31mTypeError\u001b[0m                                 Traceback (most recent call last)",
      "Cell \u001b[0;32mIn[48], line 1\u001b[0m\n\u001b[0;32m----> 1\u001b[0m \u001b[43mes\u001b[49m\u001b[38;5;241;43m.\u001b[39;49m\u001b[43mindex\u001b[49m\u001b[43m(\u001b[49m\u001b[43m)\u001b[49m\n",
      "File \u001b[0;32m~/git/saar/venv/lib/python3.11/site-packages/elasticsearch/_sync/client/utils.py:414\u001b[0m, in \u001b[0;36m_rewrite_parameters.<locals>.wrapper.<locals>.wrapped\u001b[0;34m(*args, **kwargs)\u001b[0m\n\u001b[1;32m    411\u001b[0m         \u001b[38;5;28;01mexcept\u001b[39;00m \u001b[38;5;167;01mKeyError\u001b[39;00m:\n\u001b[1;32m    412\u001b[0m             \u001b[38;5;28;01mpass\u001b[39;00m\n\u001b[0;32m--> 414\u001b[0m \u001b[38;5;28;01mreturn\u001b[39;00m \u001b[43mapi\u001b[49m\u001b[43m(\u001b[49m\u001b[38;5;241;43m*\u001b[39;49m\u001b[43margs\u001b[49m\u001b[43m,\u001b[49m\u001b[43m \u001b[49m\u001b[38;5;241;43m*\u001b[39;49m\u001b[38;5;241;43m*\u001b[39;49m\u001b[43mkwargs\u001b[49m\u001b[43m)\u001b[49m\n",
      "\u001b[0;31mTypeError\u001b[0m: Elasticsearch.index() missing 2 required keyword-only arguments: 'index' and 'document'"
     ]
    }
   ],
   "source": [
    "es."
   ]
  },
  {
   "cell_type": "code",
   "execution_count": 62,
   "id": "a8b0ea3a-511f-4825-ae95-4d8663fc128f",
   "metadata": {},
   "outputs": [
    {
     "name": "stderr",
     "output_type": "stream",
     "text": [
      "/var/folders/gr/zw47r5vs48j4tst50wq4qr840000gn/T/ipykernel_3757/723304323.py:18: DeprecationWarning: The 'body' parameter is deprecated and will be removed in a future version. Instead use individual parameters.\n",
      "  response = es.search(index=\"news\", body=query)\n"
     ]
    }
   ],
   "source": [
    "# Specify the JSON document you want to index\n",
    "document = {\n",
    "    \"image_url\": \"https://exavcxmple2.com/image.jpg\",  # The value you want to check in \"key1\"\n",
    "    \"key2\": \"value2\",\n",
    "    \"key3\": \"value3\"\n",
    "}\n",
    "\n",
    "# Define a query to check if a document with \"key1\" matching \"value_to_check\" exists\n",
    "query = {\n",
    "    \"query\": {\n",
    "        \"match\": {\n",
    "            \"image_url\": document[\"image_url\"]\n",
    "        }\n",
    "    }\n",
    "}\n",
    "\n",
    "# Search for documents matching the query in the specified index\n",
    "response = es.search(index=\"news\", body=query)"
   ]
  },
  {
   "cell_type": "code",
   "execution_count": 64,
   "id": "da632516-a6b8-4bd0-9a78-aeefd599a440",
   "metadata": {},
   "outputs": [
    {
     "data": {
      "text/plain": [
       "5"
      ]
     },
     "execution_count": 64,
     "metadata": {},
     "output_type": "execute_result"
    }
   ],
   "source": [
    "response[\"hits\"][\"total\"][\"value\"]"
   ]
  },
  {
   "cell_type": "code",
   "execution_count": null,
   "id": "64b633b9-6819-4b45-91d3-b9856b49221d",
   "metadata": {},
   "outputs": [],
   "source": []
  }
 ],
 "metadata": {
  "kernelspec": {
   "display_name": "venv",
   "language": "python",
   "name": "venv"
  },
  "language_info": {
   "codemirror_mode": {
    "name": "ipython",
    "version": 3
   },
   "file_extension": ".py",
   "mimetype": "text/x-python",
   "name": "python",
   "nbconvert_exporter": "python",
   "pygments_lexer": "ipython3",
   "version": "3.11.5"
  }
 },
 "nbformat": 4,
 "nbformat_minor": 5
}
