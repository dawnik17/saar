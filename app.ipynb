{
 "cells": [
  {
   "cell_type": "markdown",
   "id": "98774afd-2098-46d8-8eb3-193f2feeeeaf",
   "metadata": {},
   "source": [
    "# Indexing"
   ]
  },
  {
   "cell_type": "code",
   "execution_count": 1,
   "id": "a72b5b49-16d9-4659-9792-cdd53cdb56b4",
   "metadata": {},
   "outputs": [],
   "source": [
    "import requests\n",
    "import json\n",
    "import pickle\n",
    "import datetime"
   ]
  },
  {
   "cell_type": "code",
   "execution_count": 2,
   "id": "949adefd-16ab-4d47-b942-93d2df325ac4",
   "metadata": {},
   "outputs": [],
   "source": [
    "# data to index\n",
    "data = pickle.load(open(\"./data/production/2023-09-10.pkl\", \"rb\"))\n",
    "\n",
    "api_url='http://localhost:5000/api/index'\n",
    "headers = {'Content-Type': 'application/json'}"
   ]
  },
  {
   "cell_type": "code",
   "execution_count": 3,
   "id": "eee46fe2-64c6-41f5-8236-2381dba0ec8a",
   "metadata": {},
   "outputs": [],
   "source": [
    "# a custom function to serialize datetime objects\n",
    "def serialize_datetime(obj):\n",
    "\tif isinstance(obj, datetime.datetime):\n",
    "\t\treturn obj.isoformat()\n",
    "        \n",
    "\traise TypeError(\"Type not serializable\")"
   ]
  },
  {
   "cell_type": "code",
   "execution_count": 4,
   "id": "dd4aa2c8-e1ba-447e-a96a-642226f3f7ed",
   "metadata": {},
   "outputs": [],
   "source": [
    "response = requests.post(api_url, data=json.dumps(data, default=serialize_datetime), headers=headers)"
   ]
  },
  {
   "cell_type": "markdown",
   "id": "a4ea3d5e-7087-4d00-b712-2b4f3ed1607e",
   "metadata": {},
   "source": [
    "# Filter"
   ]
  },
  {
   "cell_type": "code",
   "execution_count": 5,
   "id": "1aaa6df2-49c8-4fe9-b8fd-251624c8c565",
   "metadata": {},
   "outputs": [
    {
     "name": "stdout",
     "output_type": "stream",
     "text": [
      "93\n"
     ]
    }
   ],
   "source": [
    "base_url = 'http://localhost:5000/api/filter'\n",
    "query_params = {\n",
    "    'category': 'Health'\n",
    "}\n",
    "\n",
    "response = requests.get(base_url, params=query_params)\n",
    "result = json.loads(response.text)\n",
    "len(result)"
   ]
  },
  {
   "cell_type": "markdown",
   "id": "21f692d1-0b38-44a2-b764-87a63c430ac8",
   "metadata": {},
   "source": [
    "# Search"
   ]
  },
  {
   "cell_type": "code",
   "execution_count": 6,
   "id": "b661364a-1f5a-4c0d-a039-ca9c521da492",
   "metadata": {},
   "outputs": [
    {
     "name": "stdout",
     "output_type": "stream",
     "text": [
      "60\n"
     ]
    }
   ],
   "source": [
    "base_url = 'http://localhost:5000/api/search'\n",
    "query_params = {\n",
    "    'query': 'Donald Trump'\n",
    "}\n",
    "\n",
    "response = requests.get(base_url, params=query_params)\n",
    "result = json.loads(response.text)\n",
    "len(result)"
   ]
  }
 ],
 "metadata": {
  "kernelspec": {
   "display_name": "venv",
   "language": "python",
   "name": "venv"
  },
  "language_info": {
   "codemirror_mode": {
    "name": "ipython",
    "version": 3
   },
   "file_extension": ".py",
   "mimetype": "text/x-python",
   "name": "python",
   "nbconvert_exporter": "python",
   "pygments_lexer": "ipython3",
   "version": "3.11.5"
  }
 },
 "nbformat": 4,
 "nbformat_minor": 5
}
