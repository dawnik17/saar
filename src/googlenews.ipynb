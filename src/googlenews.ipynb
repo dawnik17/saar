{
 "cells": [
  {
   "cell_type": "code",
   "execution_count": 1,
   "id": "76da2786-508b-4841-a6d7-5535725d3ed6",
   "metadata": {},
   "outputs": [],
   "source": [
    "# !pip install GoogleNews\n",
    "# !pip install gnewsclient"
   ]
  },
  {
   "cell_type": "code",
   "execution_count": 2,
   "id": "3aff55a6-d650-4629-8a07-f24cfca0e67a",
   "metadata": {},
   "outputs": [],
   "source": [
    "from tqdm import tqdm\n",
    "from GoogleNews import GoogleNews"
   ]
  },
  {
   "cell_type": "code",
   "execution_count": 3,
   "id": "ed3e2b8f-3c35-49ec-8542-dd96e044c1e4",
   "metadata": {},
   "outputs": [],
   "source": [
    "import pickle\n",
    "import os\n",
    "\n",
    "title_store_path = \"\"\n",
    "title_store = pickle.load(open(title_store_path, \"rb\")) if os.path.isfile(title_store_path) else set()"
   ]
  },
  {
   "cell_type": "code",
   "execution_count": 4,
   "id": "7bef7da0-4365-4450-a0df-cb2bae0f750f",
   "metadata": {},
   "outputs": [],
   "source": [
    "topics = ['Top Stories',\n",
    "          'World',\n",
    "          'Nation',\n",
    "          'Business',\n",
    "          'Technology',\n",
    "          'Entertainment',\n",
    "          'Sports',\n",
    "          'Science',\n",
    "          'Health',\n",
    "          'Politics']"
   ]
  },
  {
   "cell_type": "code",
   "execution_count": 5,
   "id": "8d279f7d-ec98-46e6-ba91-27277280f94e",
   "metadata": {},
   "outputs": [],
   "source": [
    "def get_google_news(use_method=\"search\"):\n",
    "    googlenews = GoogleNews(lang='en', \n",
    "                            period=\"2d\",\n",
    "                            encode='utf-8')\n",
    "    \n",
    "    results = []\n",
    "\n",
    "    for topic in tqdm(topics):\n",
    "        if use_method == \"search\":\n",
    "            # search news on \"topic\"\n",
    "            googlenews.search(topic)\n",
    "            \n",
    "            # fetch all pages from google search\n",
    "            for i in range(2, 10):\n",
    "                googlenews.get_page(i)\n",
    "            \n",
    "        else:\n",
    "            # directly call the news API\n",
    "            googlenews.get_news(topic)\n",
    "\n",
    "        # get results\n",
    "        result = googlenews.results()\n",
    "        \n",
    "        for news in result:\n",
    "            news[\"link\"] = news[\"link\"].split(\"&ved\")[0]\n",
    "            news[\"category\"] = topic\n",
    "            \n",
    "            del news[\"img\"]\n",
    "            del news[\"desc\"]\n",
    "        \n",
    "        results.extend(result)\n",
    "        googlenews.clear()\n",
    "\n",
    "    results = sorted(results, reverse=True, key=lambda d: d['datetime'])\n",
    "    return results"
   ]
  },
  {
   "cell_type": "code",
   "execution_count": 7,
   "id": "d33e5027-8f51-4a69-906c-c2d1f7f83da2",
   "metadata": {},
   "outputs": [
    {
     "name": "stderr",
     "output_type": "stream",
     "text": [
      "100%|██████████| 1/1 [00:16<00:00, 16.20s/it]\n",
      "100%|██████████| 1/1 [00:02<00:00,  2.52s/it]\n"
     ]
    }
   ],
   "source": [
    "# fetch news\n",
    "news = get_google_news(use_method=\"search\")\n",
    "news += get_google_news(use_method=\"get_news\")"
   ]
  },
  {
   "cell_type": "code",
   "execution_count": 8,
   "id": "88a2b9f4-32b5-4b1b-9a28-e78781976830",
   "metadata": {},
   "outputs": [
    {
     "data": {
      "text/plain": [
       "188"
      ]
     },
     "execution_count": 8,
     "metadata": {},
     "output_type": "execute_result"
    }
   ],
   "source": [
    "len(news)"
   ]
  },
  {
   "cell_type": "code",
   "execution_count": 9,
   "id": "46779e9a-c035-46c0-b876-cfff1a839e5f",
   "metadata": {},
   "outputs": [
    {
     "data": {
      "text/plain": [
       "{'title': 'News: Today’s News Headlines, Breaking News India, World News and Cricket News',\n",
       " 'media': 'Hindustan Times',\n",
       " 'date': '0 hours ago',\n",
       " 'datetime': datetime.datetime(2023, 9, 7, 22, 47, 0, 480906),\n",
       " 'link': 'https://www.hindustantimes.com/infographic/understanding-the-fosbury-flop-101682536635133.html',\n",
       " 'category': 'Top Stories'}"
      ]
     },
     "execution_count": 9,
     "metadata": {},
     "output_type": "execute_result"
    }
   ],
   "source": [
    "news[0]"
   ]
  },
  {
   "cell_type": "code",
   "execution_count": 12,
   "id": "fc0b0010-3149-4b3f-91b1-8f41d65c98eb",
   "metadata": {},
   "outputs": [],
   "source": [
    "# # get newspapers directly\n",
    "# import time\n",
    "# import newspaper\n",
    "# from tqdm import tqdm\n",
    "\n",
    "\n",
    "# news_sites = [\n",
    "#     \"http://cnn.com\",\n",
    "#     \"http://bbc.com\",\n",
    "#     \"http://nytimes.com\",\n",
    "#     \"http://washingtonpost.com\",\n",
    "#     \"http://reuters.com\",\n",
    "#     \"http://apnews.com\",\n",
    "#     \"http://nbcnews.com\",\n",
    "#     \"http://usatoday.com\",\n",
    "#     \"http://theguardian.com\",\n",
    "#     \"http://aljazeera.com\",\n",
    "#     \"http://bloomberg.com\",\n",
    "#     \"http://huffpost.com\",\n",
    "#     \"http://abcnews.go.com\",\n",
    "#     \"http://time.com\",\n",
    "#     \"http://forbes.com\",\n",
    "#     \"http://cnbc.com\",\n",
    "#     \"http://wsj.com\",\n",
    "#     \"http://npr.org\",\n",
    "#     \"http://bostonglobe.com\",\n",
    "#     \"http://latimes.com\",\n",
    "#     \"http://chicagotribune.com\",\n",
    "#     \"http://foxnews.com\",\n",
    "#     \"http://usatoday.com\",\n",
    "#     \"http://news.yahoo.com\",\n",
    "#     \"http://cbc.ca\",\n",
    "#     \"http://independent.co.uk\",\n",
    "#     \"http://usatoday.com\",\n",
    "#     \"http://thetimes.co.uk\",\n",
    "#     \"http://mirror.co.uk\",\n",
    "#     \"http://news.sky.com\",\n",
    "#     \"http://dailynews.com\",\n",
    "# ]\n",
    "\n",
    "# results = []\n",
    "\n",
    "# for news_site in tqdm(news_sites):\n",
    "#     paper = newspaper.build(news_site)\n",
    "\n",
    "#     for article in paper.articles:\n",
    "#         results.append({\"link\": article.url,\n",
    "#                      \"media\": news_site})\n",
    "        \n",
    "#     time.sleep(5)"
   ]
  },
  {
   "cell_type": "code",
   "execution_count": 9,
   "id": "250f8898-d6d0-42af-90a1-619b932db7fe",
   "metadata": {},
   "outputs": [],
   "source": [
    "def deduplicate_list_of_dicts(input_list, keys_to_check):\n",
    "    \"\"\"\n",
    "    input_list - list of dictionaries\n",
    "    keys_to_check: deduplicate only on these keys\n",
    "    \"\"\"\n",
    "    seen = set()\n",
    "    deduplicated_list = []\n",
    "    \n",
    "    for d in input_list:\n",
    "        dict_subset = {key: d[key] for key in keys_to_check if key in d}\n",
    "        dict_tuple = tuple(dict_subset.items())\n",
    "        \n",
    "        if dict_tuple not in seen:\n",
    "            seen.add(dict_tuple)\n",
    "            deduplicated_list.append(d)\n",
    "    \n",
    "    return deduplicated_list\n",
    "\n",
    "# deduplicate news\n",
    "news = deduplicate_list_of_dicts(news, keys_to_check=[\"link\"])"
   ]
  },
  {
   "cell_type": "code",
   "execution_count": 10,
   "id": "263132a8-faea-441e-865d-2b318a250186",
   "metadata": {},
   "outputs": [],
   "source": [
    "# remove news that is already inserted\n",
    "news = [new for new in news if new[\"link\"] not in title_store]\n",
    "\n",
    "# add newly insterted news to title store and save the title store\n",
    "title_store = title_store.union({new[\"link\"] for new in news})\n",
    "# pickle.dump(title_store, open(title_store_path, \"wb\"))"
   ]
  },
  {
   "cell_type": "code",
   "execution_count": 11,
   "id": "ff0d8f52-b1ad-4348-be93-358facd7b3eb",
   "metadata": {},
   "outputs": [
    {
     "name": "stderr",
     "output_type": "stream",
     "text": [
      "[nltk_data] Downloading package punkt to /home/qblocks/nltk_data...\n",
      "[nltk_data]   Package punkt is already up-to-date!\n"
     ]
    }
   ],
   "source": [
    "# bring full news data\n",
    "from newspaper import Article\n",
    "import re\n",
    "import nltk\n",
    "from datetime import datetime\n",
    "\n",
    "\n",
    "nltk.download('punkt')\n",
    "pattern = re.compile(r'[^a-zA-Z0-9`~!@#$%^&*()_+={}\\[\\]:;\"\\'<>,.?/\\\\| -]')\n",
    "phrases_to_remove = [\"Sign In\", \"Want to read more?\", \"Already have an account?\", \"To continue reading\"]\n",
    "\n",
    "\n",
    "def remove_phrases(string, phrases):\n",
    "    pattern = '|'.join(re.escape(phrase) for phrase in phrases)\n",
    "    result = re.split(pattern, string)\n",
    "    return result[0]\n",
    "\n",
    "\n",
    "def curate_article(article):\n",
    "    # Remove characters not on the QWERTY keyboard \n",
    "    article = pattern.sub('', article)\n",
    "    \n",
    "    # Remove \"Advertisement\" sections\n",
    "    curated_article = re.sub(r'Advertisement', '', article)\n",
    "\n",
    "    # Remove extra spaces and new lines\n",
    "    curated_article = re.sub(r'\\n{3,}', '\\n\\n', curated_article)\n",
    "    \n",
    "    # Remove everything after the stop phrases\n",
    "    curated_article = remove_phrases(curated_article, phrases_to_remove)\n",
    "    \n",
    "    # routine curation\n",
    "    curated_article = re.sub(r'\\s+', ' ', curated_article)\n",
    "    curated_article = curated_article.strip()\n",
    "\n",
    "    return curated_article\n",
    "\n",
    "\n",
    "def get_full_news(news):\n",
    "    url = news[\"link\"]\n",
    "    \n",
    "    try:\n",
    "        article = Article(url)\n",
    "        article.download()\n",
    "        article.parse()\n",
    "        article.nlp()\n",
    "    \n",
    "    except:\n",
    "        return \n",
    "    \n",
    "    full_text = curate_article(article.text)\n",
    "\n",
    "    # failure criteria\n",
    "    if article.is_media_news() or len(full_text.split()) < 50:\n",
    "        return\n",
    "    \n",
    "    news[\"full_text\"] = full_text\n",
    "    \n",
    "    if \"image_url\" not in news:\n",
    "        news[\"image_url\"] = article.top_image\n",
    "        \n",
    "    # check for date\n",
    "    is_date = \"pdate\" in article.meta_data\n",
    "    \n",
    "    if \"date\" not in news and is_date:\n",
    "        news[\"date\"] = datetime.strptime(str(article.meta_data[\"pdate\"]), \"%Y%m%d\")\n",
    "    \n",
    "    if \"datetime\" not in news and is_date:\n",
    "        news[\"datetime\"] = datetime.strptime(str(article.meta_data[\"pdate\"]), \"%Y%m%d\")\n",
    "        \n",
    "    # check for title\n",
    "    if \"title\" not in news:\n",
    "        news[\"title\"] = article.title\n",
    "        \n",
    "    return news"
   ]
  },
  {
   "cell_type": "code",
   "execution_count": null,
   "id": "f03df63b-b130-401e-ae05-d063a51112b7",
   "metadata": {},
   "outputs": [
    {
     "name": "stderr",
     "output_type": "stream",
     "text": [
      "  0%|          | 19/1106500 [00:12<195:19:29,  1.57it/s]/usr/local/lib/python3.8/dist-packages/dateutil/parser/_parser.py:1207: UnknownTimezoneWarning: tzname CDT identified but not understood.  Pass `tzinfos` argument in order to correctly return a timezone-aware datetime.  In a future version, this will raise an exception.\n",
      "  warnings.warn(\"tzname {tzname} identified but not understood.  \"\n",
      "  0%|          | 77/1106500 [00:27<87:51:58,  3.50it/s] "
     ]
    }
   ],
   "source": [
    "news = [get_full_news(new) for new in tqdm(news)]\n",
    "news = [new for new in news if new is not None]"
   ]
  },
  {
   "cell_type": "code",
   "execution_count": null,
   "id": "de64066d-3469-4686-b009-28244bc3e55b",
   "metadata": {},
   "outputs": [],
   "source": [
    "len(news)"
   ]
  },
  {
   "cell_type": "code",
   "execution_count": null,
   "id": "01d992af-8024-4ebd-9fed-1226d0f92a7d",
   "metadata": {},
   "outputs": [],
   "source": [
    "news[0]"
   ]
  },
  {
   "cell_type": "code",
   "execution_count": 9,
   "id": "f8b03ed6-9d3d-4383-a96a-0809cd010f66",
   "metadata": {},
   "outputs": [
    {
     "data": {
      "text/plain": [
       "899"
      ]
     },
     "execution_count": 9,
     "metadata": {},
     "output_type": "execute_result"
    }
   ],
   "source": [
    "if len(news) > 0:\n",
    "    # infer\n",
    "    pass"
   ]
  },
  {
   "cell_type": "code",
   "execution_count": 16,
   "id": "1343cbec-7332-450f-af2a-330056cdfc79",
   "metadata": {},
   "outputs": [],
   "source": [
    "# from gnewsclient import gnewsclient\n",
    " \n",
    "# client = gnewsclient.NewsClient(language='english',\n",
    "#                                 location='india',\n",
    "#                                 topic='Science',\n",
    "#                                 max_results=300)\n",
    " \n",
    "# news_list = client.get_news()\n",
    "# client.topics"
   ]
  }
 ],
 "metadata": {
  "kernelspec": {
   "display_name": "Python 3 (ipykernel)",
   "language": "python",
   "name": "python3"
  },
  "language_info": {
   "codemirror_mode": {
    "name": "ipython",
    "version": 3
   },
   "file_extension": ".py",
   "mimetype": "text/x-python",
   "name": "python",
   "nbconvert_exporter": "python",
   "pygments_lexer": "ipython3",
   "version": "3.11.5"
  }
 },
 "nbformat": 4,
 "nbformat_minor": 5
}
